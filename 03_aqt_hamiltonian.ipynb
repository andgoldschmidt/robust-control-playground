{
 "cells": [
  {
   "cell_type": "code",
   "execution_count": null,
   "metadata": {},
   "outputs": [],
   "source": [
    "using QuantumCollocation\n",
    "using NamedTrajectories\n",
    "using TrajectoryIndexingUtils\n",
    "\n",
    "using LinearAlgebra\n",
    "using CairoMakie\n",
    "using YAML"
   ]
  },
  {
   "cell_type": "markdown",
   "metadata": {},
   "source": [
    "# Background"
   ]
  },
  {
   "cell_type": "markdown",
   "metadata": {},
   "source": [
    "__Problem statement__\n",
    "\n",
    "Qubit 5 is driven to achieve an X gate. Qubit 6 has a $1 \\leftrightarrow 2$ transition that is close to the $0 \\leftrightarrow 1$ transition of qubit 5. As a result, the always-on coupling introduces leakage.\n"
   ]
  },
  {
   "cell_type": "markdown",
   "metadata": {},
   "source": [
    "__Hamiltonian__\n",
    "A pair of transmons is modeled using\n",
    "\\begin{align}\n",
    "    H_\\text{Transmon} &= \\sum_{j=1,2} \\omega_j a_j^\\dag a_j + \\frac{\\alpha_j}{2} (a_j^\\dag)^2 (a_j)^2 \\\\\n",
    "    H_\\text{Coupling} &= J (a_1^\\dag a_2 + a_1 a_2^\\dag) \\\\\n",
    "    H_\\text{Drive} &= \\sum_{j=1,2} \\varepsilon_j(t) e^{i \\varphi_j(t)} a_j + \\text{h.c.}\n",
    "\\end{align}\n",
    "\n",
    "__Rotating frame__\n",
    "Start with dynamics $i |\\psi(t)\\rangle = H(t) |\\psi(t)\\rangle$. For a state $|\\tilde{\\psi}(t)\\rangle := U_R(t)^\\dag |\\psi(t)\\rangle$ with $U_R(t) = \\exp\\{-i H_R t\\}$, the rotating frame Hamiltonian is\n",
    "\\begin{equation}\n",
    "    \\tilde{H} = U^\\dag(t) H(t) U(t) - H_R.\n",
    "\\end{equation}\n",
    "\n",
    "Define the rotation axis of $U_R(t) = \\exp\\{-i H_R t\\}$ in one of two ways:\n",
    "\\begin{align}\n",
    "   H_R &= \\omega_d (a_1^\\dag a_1 + a_2^\\dag a_2) \\\\\n",
    "   H_R &= \\omega_1 a_1^\\dag a_1 + \\omega_2 a_2^\\dag a_2.\n",
    "\\end{align}\n",
    "In either case,\n",
    "\\begin{equation}\n",
    "    \\tilde{H} = H_\\text{Transmon} - H_\\text{R}(t) +  U_R^\\dag H_\\text{Coupling} U_R(t) + U_R^\\dag H_\\text{Drive} U_R(t).\n",
    "\\end{equation}\n",
    "\n",
    "__Choice__\n",
    "For the AQT case, we are studying qubit 5 and 6. Perhaps we are only using control on qubit 5. In this case, we probably want to go to the frame where both qubits rotate at $\\omega_5$. This frame will avoid any slowly varying time-dependence from frequency differences. Hence, $H_\\text{Coupling}$ remains the same and $H_\\text{Drive}$ is only driven by the control envelope, while $H_\\text{Transmon}$ picks up an offset $(\\omega_6 - \\omega_5) a_6^\\dag a_6$. Hiding here is the fact that we also make the RWA in the drive.\n",
    "\n",
    "\\begin{align}\n",
    "    H_\\text{Drift} &= (\\omega_6 - \\omega_5) a_6^\\dag a_6 + \\sum_{j=5,6}\\frac{\\alpha_j}{2} (a_j^\\dag)^2 (a_j)^2 + J (a_5^\\dag a_6 + a_5 a_6^\\dag) \\\\\n",
    "    H_\\text{Drive} &= \\sum_{j=5,6} \\varepsilon^{I}_j(t) (a_j + a_j^\\dag) + \\varepsilon^{Q}_j(t) i (a_j - a_j^\\dag).\n",
    "\\end{align}"
   ]
  },
  {
   "cell_type": "markdown",
   "metadata": {},
   "source": [
    "# Compute"
   ]
  },
  {
   "cell_type": "markdown",
   "metadata": {},
   "source": [
    "## Quantum utilities"
   ]
  },
  {
   "cell_type": "markdown",
   "metadata": {},
   "source": [
    "A few utilities that aren't in quantum utils yet."
   ]
  },
  {
   "cell_type": "code",
   "execution_count": null,
   "metadata": {},
   "outputs": [],
   "source": [
    "\"\"\"\n",
    "    embed_operator(subspace::AbstractVector{<:Integer}, dim::Int, operator::AbstractMatrix)\n",
    "\n",
    "Embed the operator at the indices of subspace into a space of size dim.\n",
    "\"\"\"\n",
    "function embed_operator(subspace::AbstractVector{<:Integer}, dim::Integer, operator::AbstractMatrix)\n",
    "    embedding = zeros(dim, dim)\n",
    "    embedding[subspace, subspace] .= operator\n",
    "    return embedding\n",
    "end\n",
    "\n",
    "\"\"\"\n",
    "    embed_operators(levels::AbstractVector{<:Integer}, operators::AbstractVector)\n",
    "\n",
    "Embed the provided operators into the larger Hilbert space defined by levels.\n",
    "\"\"\"\n",
    "function embed_operator(levels::AbstractVector{<:Integer}, operators::AbstractVector)\n",
    "    subspace_levels = [size(H, 1) for H in operators]\n",
    "    s = subspace_indices(subspace_levels, levels)\n",
    "    return embed_operator(s, d, reduce(kron, operators))\n",
    "end\n",
    "\n",
    "embed_operator(level::Integer, operator::AbstractMatrix) = embed_operator([level], [operator])\n",
    "\n",
    "\"\"\"\n",
    "    truncate_operators(\n",
    "        subspace_levels::AbstractVector{<:Integer},\n",
    "        levels::AbstractVector{<:Integer},\n",
    "        operator::AbstractMatrix)\n",
    "\n",
    "Truncate the provided operator from the Hilbert space spanned be levels into the subspace_levels.\n",
    "\"\"\"\n",
    "function truncate_operator(\n",
    "        subspace_levels::AbstractVector{<:Integer},\n",
    "        levels::AbstractVector{<:Integer},\n",
    "        operator::AbstractMatrix)\n",
    "    s = subspace_indices(subspace_levels, levels)\n",
    "    return operator[s, s]\n",
    "end\n",
    "\n",
    "\"\"\"\n",
    "    truncate_operators(subspace_levels::AbstractVector{<:Integer}, operators::AbstractVector)\n",
    "\n",
    "Truncate the list of operators into the subspace spanned by subspace_levels.\n",
    "\"\"\"\n",
    "truncate_operator(subspace_levels::AbstractVector{<:Integer}, operators::AbstractVector) =\n",
    "    truncate_operator(subspace_levels, [size(H, 1) for H in operators], reduce(kron, operators))\n",
    "\n",
    "truncate_operator(subspace_levels::Integer, operators::AbstractMatrix) =\n",
    "    truncate_operator([subspace_levels], [operators])"
   ]
  },
  {
   "cell_type": "code",
   "execution_count": null,
   "metadata": {},
   "outputs": [],
   "source": [
    "\"\"\"\n",
    "operators_from_dict(keys::AbstractVector{<:Any}, operator_dictionary; I_key=:I)\n",
    "\n",
    "    Replace the vector of keys using the operators from a dictionary.\n",
    "\"\"\"\n",
    "function operators_from_dict(keys::AbstractVector{<:Any}, operator_dictionary; I_key=:I)\n",
    "    first_operator = first(values(operator_dictionary))\n",
    "    I_default = Matrix{eltype(first_operator)}(I, size(first_operator))\n",
    "    # Identity key is replaced by operator_dictionary, else default I.\n",
    "    return replace(replace(keys, operator_dictionary...), I_key => I_default)\n",
    "end\n",
    "\n",
    "\"\"\"\n",
    "operators_from_dict(key_string::String, operator_dictionary; I_key=\"I\")\n",
    "\n",
    "    Replace the string (each character is one key) with operators from a dictionary.\n",
    "\"\"\"\n",
    "operators_from_dict(key_string::String, operator_dictionary; I_key=\"I\") = \n",
    "    operators_from_dict([string(c) for c ∈ key_string], operator_dictionary, I_key=I_key)\n",
    "\n",
    "\"\"\"\n",
    "kron_from_dict(keys, dict; kwargs...)\n",
    "\n",
    "    Reduce the keys to a single operator by using the provided dictionary and the kronecker product.\n",
    "\"\"\"\n",
    "kron_from_dict(keys, dict; kwargs...) = reduce(kron, operators_from_dict(keys, dict; kwargs...))"
   ]
  },
  {
   "cell_type": "markdown",
   "metadata": {},
   "source": [
    "## Problem"
   ]
  },
  {
   "cell_type": "markdown",
   "metadata": {},
   "source": [
    "Set up problem parameters. "
   ]
  },
  {
   "cell_type": "code",
   "execution_count": null,
   "metadata": {},
   "outputs": [],
   "source": [
    "const Units = 1e9  # GHz, ns\n",
    "const MHz = 1e6 / Units\n",
    "const GHz = 1e9 / Units\n",
    "const ns = 1e-9 * Units\n",
    "const μs = 1e-6 * Units\n",
    "\n",
    "const n_qubits = 2\n",
    "const n_levels = 3"
   ]
  },
  {
   "cell_type": "code",
   "execution_count": null,
   "metadata": {},
   "outputs": [],
   "source": [
    "a_bound = 2 * π * 500 * MHz\n",
    "\n",
    "n_steps = 101\n",
    "t_f = 10 * ns\n",
    "t_times = range(0, t_f, n_steps)\n",
    "Δt = t_times[2] - t_times[1]\n",
    "\n",
    "# Operators \n",
    "at = create(n_levels)\n",
    "a = annihilate(n_levels)\n",
    "\n",
    "H_operators = Dict(\n",
    "        \"X\" => a + at,\n",
    "        \"Y\" => -im * (a - at),\n",
    "        \"Z\" => I - 2 * at * a,\n",
    "        \"N\" => at * a,\n",
    "        \"A\" => 1 / 2 * at * at * a * a,\n",
    ");"
   ]
  },
  {
   "cell_type": "code",
   "execution_count": null,
   "metadata": {},
   "outputs": [],
   "source": [
    "config = YAML.load_file(\"./config_X6Y3.yaml\");\n",
    "\n",
    "function get_AQT_transmon(config, index) \n",
    "    ω_ge = config[\"single_qubit\"][index][\"GE\"][\"freq\"]\n",
    "    α = (config[\"single_qubit\"][index][\"EF\"][\"freq\"] - ω_ge)\n",
    "    return 2 * π * ω_ge, 2 * π * α\n",
    "end\n",
    "\n",
    "ω_5, α_5 = get_AQT_transmon(config, 5) ./ Units\n",
    "ω_6, α_6 = get_AQT_transmon(config, 6) ./ Units\n",
    "ω_d = ω_5\n",
    "\n",
    "J_56 = config[\"two_qubit\"][\"(5, 6)\"][\"CZ\"][\"freq\"] / Units"
   ]
  },
  {
   "cell_type": "code",
   "execution_count": null,
   "metadata": {},
   "outputs": [],
   "source": [
    "probs = Dict()"
   ]
  },
  {
   "cell_type": "markdown",
   "metadata": {},
   "source": [
    "### Isolated Qubit 5\n",
    "\n",
    "Equivalent of drag pulse from optimal control, only difference now is transmon instead of qubit."
   ]
  },
  {
   "cell_type": "code",
   "execution_count": null,
   "metadata": {},
   "outputs": [],
   "source": [
    "H_drift = (\n",
    "    (ω_5 - ω_d) .* kron_from_dict(\"N\", H_operators)\n",
    "    + α_5 .* kron_from_dict(\"A\", H_operators)\n",
    ")\n",
    "\n",
    "H_controls = [\n",
    "    kron_from_dict(\"X\", H_operators),\n",
    "    kron_from_dict(\"Y\", H_operators)\n",
    "]\n",
    "\n",
    "# Currently, the operator must be embedded into a matrix of zeros at the correct indices.\n",
    "# This will have to change in future versions.\n",
    "subspace = [1,2]\n",
    "U_goal = embed_operator(subspace, n_levels, GATES[:X])\n",
    "\n",
    "probs[\"5\"] = UnitarySmoothPulseProblem(\n",
    "    H_drift,\n",
    "    H_controls,\n",
    "    U_goal,\n",
    "    n_steps,\n",
    "    Δt;\n",
    "    subspace=subspace,\n",
    "    geodesic=false,\n",
    "    free_time=true,\n",
    "    timesteps_all_equal=false,\n",
    "    a_bound=a_bound / 10,\n",
    "    dda_bound=1.0,\n",
    "    hessian_approximation=true,\n",
    "    pade_order=4,\n",
    "    R_a=1e-3,\n",
    "    R_da=1e-3,\n",
    "    R_dda=1e-3,\n",
    ")\n"
   ]
  },
  {
   "cell_type": "code",
   "execution_count": null,
   "metadata": {},
   "outputs": [],
   "source": [
    "solve!(probs[\"5\"]; max_iter=200)\n",
    "\n",
    "unitary_fidelity(probs[\"5\"]; subspace=subspace)"
   ]
  },
  {
   "cell_type": "code",
   "execution_count": null,
   "metadata": {},
   "outputs": [],
   "source": [
    "plot(probs[\"5\"].trajectory)"
   ]
  },
  {
   "cell_type": "markdown",
   "metadata": {},
   "source": [
    "### Qubit 5, Ignoring Qubit 6\n",
    "\n",
    "Use the full Hamiltonian, but only focus on getting a good gate for Qubit 5."
   ]
  },
  {
   "cell_type": "code",
   "execution_count": null,
   "metadata": {},
   "outputs": [],
   "source": [
    "H_drift = (\n",
    "    (ω_5 - ω_d) .* kron_from_dict(\"NI\", H_operators)\n",
    "    + (ω_6 - ω_d) .* kron_from_dict(\"IN\", H_operators)\n",
    "    + α_5 .* kron_from_dict(\"AI\", H_operators)\n",
    "    + α_6 .* kron_from_dict(\"IA\", H_operators)\n",
    "    + J_56 .* (a ⊗ a' + a' ⊗ a)\n",
    ")\n",
    "\n",
    "H_controls = Matrix{ComplexF64}[\n",
    "    kron_from_dict(\"XI\", H_operators),\n",
    "    kron_from_dict(\"YI\", H_operators),\n",
    "    kron_from_dict(\"IX\", H_operators),\n",
    "    kron_from_dict(\"IY\", H_operators)\n",
    "]\n",
    "\n",
    "# Currently, the operator must be embedded into a matrix of zeros at the correct indices.\n",
    "# This will have to change in future versions.\n",
    "subspace = [1,2]\n",
    "U_goal = embed_operator(subspace, n_levels^n_qubits, GATES[:X])\n",
    "\n",
    "probs[\"56\"] = UnitarySmoothPulseProblem(\n",
    "    H_drift,\n",
    "    H_controls,\n",
    "    U_goal,\n",
    "    n_steps,\n",
    "    Δt;\n",
    "    subspace=subspace,\n",
    "    geodesic=false,\n",
    "    free_time=true,\n",
    "    timesteps_all_equal=false,\n",
    "    a_bound=a_bound,\n",
    "    dda_bound=10.,\n",
    "    hessian_approximation=true,\n",
    "    pade_order=4,\n",
    "    R_a=1e-3,\n",
    "    R_da=1e-3,\n",
    "    R_dda=1e-1,\n",
    ")"
   ]
  },
  {
   "cell_type": "code",
   "execution_count": null,
   "metadata": {},
   "outputs": [],
   "source": [
    "solve!(probs[\"56\"]; max_iter=100)\n",
    "\n",
    "unitary_fidelity(probs[\"56\"]; subspace=subspace)"
   ]
  },
  {
   "cell_type": "code",
   "execution_count": null,
   "metadata": {},
   "outputs": [],
   "source": [
    "plot(probs[\"56\"].trajectory)"
   ]
  },
  {
   "cell_type": "code",
   "execution_count": null,
   "metadata": {},
   "outputs": [],
   "source": [
    "# Extend function\n",
    "import QuantumCollocation: unitary_rollout\n",
    "\n",
    "function unitary_rollout(prob::QuantumControlProblem; kwargs...)\n",
    "    return unitary_rollout(prob.trajectory, prob.system; kwargs...)\n",
    "end"
   ]
  },
  {
   "cell_type": "code",
   "execution_count": null,
   "metadata": {},
   "outputs": [],
   "source": [
    "U_final = iso_vec_to_operator(unitary_rollout(probs[\"56\"])[:, end])\n",
    "\n",
    "# reproduce fidelity from before\n",
    "abs(tr(U_final[1:2, 1:2]'GATES[:X])) / 2"
   ]
  },
  {
   "cell_type": "code",
   "execution_count": null,
   "metadata": {},
   "outputs": [],
   "source": [
    "# We want the last two indices for the gate on the other qubit\n",
    "subspace_indices([3, 3]) |> println\n",
    "\n",
    "# Some gate was applied\n",
    "U_final[4:5, 4:5]"
   ]
  },
  {
   "cell_type": "markdown",
   "metadata": {},
   "source": [
    "### Qubit 5 & 6 together\n",
    "\n",
    "Previously, we ignore the impact on qubit 6. Now enforce as identity."
   ]
  },
  {
   "cell_type": "code",
   "execution_count": null,
   "metadata": {},
   "outputs": [],
   "source": [
    "H_drift = (\n",
    "    (ω_5 - ω_d) .* kron_from_dict(\"NI\", H_operators)\n",
    "    + (ω_6 - ω_d) .* kron_from_dict(\"IN\", H_operators)\n",
    "    + α_5 .* kron_from_dict(\"AI\", H_operators)\n",
    "    + α_6 .* kron_from_dict(\"IA\", H_operators)\n",
    "    + J_56 .* (a ⊗ a' + a' ⊗ a)\n",
    ")\n",
    "\n",
    "H_controls = Matrix{ComplexF64}[\n",
    "    kron_from_dict(\"XI\", H_operators),\n",
    "    kron_from_dict(\"YI\", H_operators),\n",
    "    kron_from_dict(\"IX\", H_operators),\n",
    "    kron_from_dict(\"IY\", H_operators)\n",
    "]\n",
    "\n",
    "# Currently, the operator must be embedded into a matrix of zeros at the correct indices.\n",
    "# This will have to change in future versions.\n",
    "subspace = subspace_indices([3, 3])\n",
    "U_goal = embed_operator(subspace, n_levels^n_qubits, GATES[:X] ⊗ GATES[:I])\n",
    "\n",
    "probs[\"XI\"] = UnitarySmoothPulseProblem(\n",
    "    H_drift,\n",
    "    H_controls,\n",
    "    U_goal,\n",
    "    n_steps,\n",
    "    Δt;\n",
    "    subspace=subspace,\n",
    "    geodesic=false,\n",
    "    free_time=true,\n",
    "    timesteps_all_equal=false,\n",
    "    a_bound=a_bound,\n",
    "    dda_bound=10.,\n",
    "    hessian_approximation=true,\n",
    "    pade_order=4,\n",
    "    R_a=1e-3,\n",
    "    R_da=1e-3,\n",
    "    R_dda=1e-3,\n",
    ")"
   ]
  },
  {
   "cell_type": "code",
   "execution_count": null,
   "metadata": {},
   "outputs": [],
   "source": [
    "solve!(probs[\"XI\"]; max_iter=200)\n",
    "\n",
    "unitary_fidelity(probs[\"XI\"]; subspace=subspace)"
   ]
  },
  {
   "cell_type": "markdown",
   "metadata": {},
   "source": [
    "__TODO__ Simulate the effect of this crosstalk on the standard X gate. Can we observe that the leakage is is happening? What is the impact of these alternative pulses?"
   ]
  },
  {
   "cell_type": "code",
   "execution_count": null,
   "metadata": {},
   "outputs": [],
   "source": [
    "plot(probs[\"XI\"].trajectory)"
   ]
  },
  {
   "cell_type": "code",
   "execution_count": null,
   "metadata": {},
   "outputs": [],
   "source": [
    "U_final = iso_vec_to_operator(unitary_rollout(probs[\"XI\"])[:, end]);"
   ]
  },
  {
   "cell_type": "code",
   "execution_count": null,
   "metadata": {},
   "outputs": [],
   "source": [
    "abs(tr(U_final[subspace, subspace]' * (GATES[:X] ⊗ GATES[:I]))) / 4"
   ]
  },
  {
   "cell_type": "code",
   "execution_count": null,
   "metadata": {},
   "outputs": [],
   "source": [
    "round.(abs.(U_final[subspace, subspace]); digits=1)"
   ]
  },
  {
   "cell_type": "code",
   "execution_count": null,
   "metadata": {},
   "outputs": [],
   "source": [
    "GATES[:X] ⊗ GATES[:I]"
   ]
  },
  {
   "cell_type": "markdown",
   "metadata": {},
   "source": [
    "### Robust qubit 5\n",
    "\n",
    "The idea is now to find a gate for qubit 5 using pulses on qubit 5 only."
   ]
  },
  {
   "cell_type": "code",
   "execution_count": null,
   "metadata": {},
   "outputs": [],
   "source": []
  }
 ],
 "metadata": {
  "kernelspec": {
   "display_name": "Julia 1.9.3",
   "language": "julia",
   "name": "julia-1.9"
  },
  "language_info": {
   "file_extension": ".jl",
   "mimetype": "application/julia",
   "name": "julia",
   "version": "1.9.3"
  }
 },
 "nbformat": 4,
 "nbformat_minor": 2
}
