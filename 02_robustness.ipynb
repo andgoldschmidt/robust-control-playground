{
 "cells": [
  {
   "cell_type": "code",
   "execution_count": null,
   "metadata": {},
   "outputs": [],
   "source": [
    "using QuantumCollocation\n",
    "using NamedTrajectories\n",
    "using TrajectoryIndexingUtils\n",
    "\n",
    "using LinearAlgebra\n",
    "using CairoMakie"
   ]
  },
  {
   "cell_type": "markdown",
   "metadata": {},
   "source": [
    "# Background"
   ]
  },
  {
   "cell_type": "markdown",
   "metadata": {},
   "source": [
    "The model is a pair of qubits. The qubits undergo ZZ crosstalk."
   ]
  },
  {
   "cell_type": "markdown",
   "metadata": {},
   "source": [
    "# Compute"
   ]
  },
  {
   "cell_type": "code",
   "execution_count": null,
   "metadata": {},
   "outputs": [],
   "source": [
    "probs = Dict()"
   ]
  },
  {
   "cell_type": "markdown",
   "metadata": {},
   "source": [
    "## Pair"
   ]
  },
  {
   "cell_type": "code",
   "execution_count": null,
   "metadata": {},
   "outputs": [],
   "source": [
    "H_drift = zeros(4, 4)\n",
    "# enter \\otimes for kron\n",
    "H_drives = [GATES[:X] ⊗ GATES[:I], GATES[:I] ⊗ GATES[:X]]\n",
    "U_goal = GATES[:X] ⊗ GATES[:X]\n",
    "ZZ = GATES[:Z] ⊗ GATES[:Z]\n",
    "T = 50\n",
    "Δt = 0.2\n",
    "\n",
    "probs[\"pair\"] = UnitarySmoothPulseProblem(\n",
    "    H_drift, \n",
    "    H_drives, \n",
    "    U_goal, \n",
    "    T, \n",
    "    Δt;\n",
    "    timesteps_all_equal=false,\n",
    "    free_time=true,\n",
    "    hessian_approximation=true\n",
    ")"
   ]
  },
  {
   "cell_type": "code",
   "execution_count": null,
   "metadata": {},
   "outputs": [],
   "source": [
    "solve!(probs[\"pair\"]; max_iter=100)"
   ]
  },
  {
   "cell_type": "code",
   "execution_count": null,
   "metadata": {},
   "outputs": [],
   "source": [
    "unitary_fidelity(probs[\"pair\"])"
   ]
  },
  {
   "cell_type": "markdown",
   "metadata": {},
   "source": [
    "Next function is not in the main code yet. It uses the robustness loss function."
   ]
  },
  {
   "cell_type": "code",
   "execution_count": null,
   "metadata": {},
   "outputs": [],
   "source": [
    "@views function infidelity_robustness(Hₑ::AbstractMatrix, prob::QuantumControlProblem)\n",
    "    Z⃗ = vec(prob.trajectory.data)\n",
    "    Z = prob.trajectory\n",
    "    return InfidelityRobustnessObjective(Hₑ, Z).L(Z⃗, Z)\n",
    "end"
   ]
  },
  {
   "cell_type": "code",
   "execution_count": null,
   "metadata": {},
   "outputs": [],
   "source": [
    "infidelity_robustness(ZZ, probs[\"pair\"])"
   ]
  },
  {
   "cell_type": "markdown",
   "metadata": {},
   "source": [
    "## Robust pair\n",
    "\n",
    "Introduce a new objective constructor for robustness.\n",
    "\n",
    "```Julia\n",
    "probs[\"robust\"] = UnitaryRobustnessProblem(ZZ, probs[\"pair\"])\n",
    "```\n",
    "would add a new ZZ robustness objective. It would do so while using the original problem constraints, the original problem objective, and enforcing the original problem fidelity as a constraint.\n",
    "\n",
    "If we pass new constraints we can overwrite some of the original problem's features to get better solutions."
   ]
  },
  {
   "cell_type": "markdown",
   "metadata": {},
   "source": [
    "The next code is new, so message if there are any broken features."
   ]
  },
  {
   "cell_type": "code",
   "execution_count": null,
   "metadata": {},
   "outputs": [],
   "source": [
    "# Retaining original constraints and objective is too much for robustness\n",
    "# reset the objective (see objective.jl)\n",
    "objective = DefaultObjective()\n",
    "objective += QuadraticRegularizer(:dda, probs[\"pair\"].trajectory, 1e-4)\n",
    "objective += QuadraticRegularizer(:a, probs[\"pair\"].trajectory, 1e-2)\n",
    "\n",
    "# Empty vector of type constraints (see constraints.jl)\n",
    "constraints = AbstractConstraint[]\n",
    "\n",
    "# Enforce a final fidelity constraint and optimize for robustness\n",
    "probs[\"robust\"] = UnitaryRobustnessProblem(\n",
    "    ZZ, \n",
    "    probs[\"pair\"];\n",
    "    objective=objective,\n",
    "    constraints=constraints,\n",
    "    final_fidelity=0.9999, \n",
    "    verbose=false,\n",
    "    hessian_approximation=true\n",
    ")"
   ]
  },
  {
   "cell_type": "code",
   "execution_count": null,
   "metadata": {},
   "outputs": [],
   "source": [
    "solve!(probs[\"robust\"]; max_iter=150)"
   ]
  },
  {
   "cell_type": "code",
   "execution_count": null,
   "metadata": {},
   "outputs": [],
   "source": [
    "# Fidelity constraint is satisfied\n",
    "unitary_fidelity(probs[\"robust\"])"
   ]
  },
  {
   "cell_type": "code",
   "execution_count": null,
   "metadata": {},
   "outputs": [],
   "source": [
    "# Compare robustness\n",
    "(x->println(\"Pair: $x\"))(infidelity_robustness(ZZ, probs[\"pair\"]))\n",
    "(x->println(\"Robust: $x\"))(infidelity_robustness(ZZ, probs[\"robust\"]))"
   ]
  },
  {
   "cell_type": "markdown",
   "metadata": {},
   "source": [
    "## Compare plots"
   ]
  },
  {
   "cell_type": "code",
   "execution_count": null,
   "metadata": {},
   "outputs": [],
   "source": [
    "plot(probs[\"pair\"].trajectory)"
   ]
  },
  {
   "cell_type": "code",
   "execution_count": null,
   "metadata": {},
   "outputs": [],
   "source": [
    "plot(probs[\"robust\"].trajectory)"
   ]
  }
 ],
 "metadata": {
  "kernelspec": {
   "display_name": "Julia 1.9.3",
   "language": "julia",
   "name": "julia-1.9"
  },
  "language_info": {
   "file_extension": ".jl",
   "mimetype": "application/julia",
   "name": "julia",
   "version": "1.9.3"
  }
 },
 "nbformat": 4,
 "nbformat_minor": 2
}
