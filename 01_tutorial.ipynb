{
 "cells": [
  {
   "cell_type": "code",
   "execution_count": null,
   "metadata": {},
   "outputs": [],
   "source": [
    "using QuantumCollocation\n",
    "using NamedTrajectories\n",
    "using TrajectoryIndexingUtils\n",
    "\n",
    "using LinearAlgebra\n",
    "using CairoMakie"
   ]
  },
  {
   "cell_type": "markdown",
   "metadata": {},
   "source": [
    "There are no namespaces in Julia because of multiple dispatch (polymorphism). However, if you want to, you write `import QuantumCollocation as QC` then call every method using `QC.method_name`."
   ]
  },
  {
   "cell_type": "markdown",
   "metadata": {},
   "source": [
    "# Background"
   ]
  },
  {
   "cell_type": "markdown",
   "metadata": {},
   "source": [
    "The model is a single qubit with X and Y control."
   ]
  },
  {
   "cell_type": "markdown",
   "metadata": {},
   "source": [
    "# Compute"
   ]
  },
  {
   "cell_type": "code",
   "execution_count": null,
   "metadata": {},
   "outputs": [],
   "source": [
    "# I use a dictionary to store all the control problems I create\n",
    "probs = Dict()"
   ]
  },
  {
   "cell_type": "markdown",
   "metadata": {},
   "source": [
    "`GATES` is a utility in QuantumCollocation's _quantum_utils.jl_ that has the Paulis."
   ]
  },
  {
   "cell_type": "code",
   "execution_count": null,
   "metadata": {},
   "outputs": [],
   "source": [
    "H_drift = zeros(2, 2)\n",
    "H_drives = [GATES[:X], GATES[:Y]]\n",
    "X_goal = GATES[:X]\n",
    "# Alternatively, we could go for the √X gate\n",
    "SX_goal = sqrt(GATES[:X])\n",
    "T = 50\n",
    "Δt = .2\n",
    "\n",
    "# X gate\n",
    "# Position arguments followed by keyword arguments, separated by ;\n",
    "# Currently, we use hessian_approximation because hessians might be unimplemented in certain areas\n",
    "probs[\"X\"] = UnitarySmoothPulseProblem(\n",
    "    H_drift, \n",
    "    H_drives, \n",
    "    X_goal, \n",
    "    T, \n",
    "    Δt;\n",
    "    hessian_approximation=true,\n",
    ")"
   ]
  },
  {
   "cell_type": "markdown",
   "metadata": {},
   "source": [
    "The next call will solve the problem we created, and a bunch of prints will happen.\n",
    "\n",
    "[Reading the IPOPT output](https://coin-or.github.io/Ipopt/OUTPUT.html)"
   ]
  },
  {
   "cell_type": "code",
   "execution_count": null,
   "metadata": {},
   "outputs": [],
   "source": [
    "solve!(probs[\"X\"]; max_iter=100)"
   ]
  },
  {
   "cell_type": "markdown",
   "metadata": {},
   "source": [
    "How to inspect an object: Where is the data?"
   ]
  },
  {
   "cell_type": "code",
   "execution_count": null,
   "metadata": {},
   "outputs": [],
   "source": [
    "# Check type (use pipe operator to print)\n",
    "typeof(probs[\"X\"]) |> println\n",
    "\n",
    "# Check fields\n",
    "fieldnames(typeof(probs[\"X\"])) |> println\n",
    "\n",
    "# Data is in a NamedTrajectory\n",
    "typeof(probs[\"X\"].trajectory) |> println\n",
    "\n",
    "# Check fields\n",
    "fieldnames(typeof(probs[\"X\"].trajectory)) |> println\n",
    "\n",
    "# Check components of state and control\n",
    "probs[\"X\"].trajectory.components |> println\n",
    "\n",
    "# Access data conveniently without indexing\n",
    "data1 = probs[\"X\"].trajectory[:a]\n",
    "\n",
    "# Alternative inconvenient indexing\n",
    "data2 = probs[\"X\"].trajectory.data[probs[\"X\"].trajectory.components[:a], :]\n",
    "(data1 == data2) |> println"
   ]
  },
  {
   "cell_type": "markdown",
   "metadata": {},
   "source": [
    "It's not so easy to find all the methods you might be interested in using. You have to get to know the repositories a bit. But you can use `methods` to see what arguments each method can take."
   ]
  },
  {
   "cell_type": "code",
   "execution_count": null,
   "metadata": {},
   "outputs": [],
   "source": [
    "methods(unitary_fidelity)"
   ]
  },
  {
   "cell_type": "code",
   "execution_count": null,
   "metadata": {},
   "outputs": [],
   "source": [
    "unitary_fidelity(probs[\"X\"])"
   ]
  },
  {
   "cell_type": "code",
   "execution_count": null,
   "metadata": {},
   "outputs": [],
   "source": [
    "# convenient function for inspecting result\n",
    "plot(probs[\"X\"].trajectory)"
   ]
  }
 ],
 "metadata": {
  "kernelspec": {
   "display_name": "Julia 1.9.3",
   "language": "julia",
   "name": "julia-1.9"
  },
  "language_info": {
   "file_extension": ".jl",
   "mimetype": "application/julia",
   "name": "julia",
   "version": "1.9.3"
  }
 },
 "nbformat": 4,
 "nbformat_minor": 2
}
